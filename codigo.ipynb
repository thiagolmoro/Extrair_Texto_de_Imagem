{
 "cells": [
  {
   "cell_type": "code",
   "execution_count": null,
   "metadata": {},
   "outputs": [],
   "source": [
    "# pip install opencv-python pytesseract\n",
    "\n",
    "# links uteis:\n",
    "# corrigir instalação windows: https://stackoverflow.com/questions/50951955/pytesseract-tesseractnotfound-error-tesseract-is-not-installed-or-its-not-i\n",
    "# instalar outra língua: https://github.com/tesseract-ocr/tessdata\n",
    "# pegar linguas: print(pytesseract.get_languages())\n",
    "\n",
    "import pytesseract\n",
    "import cv2\n",
    "\n",
    "imagem = cv2.imread(r\"Imagens\\3.jpeg\")\n",
    "\n",
    "caminho = r\"C:\\Program Files\\Tesseract-OCR\"\n",
    "pytesseract.pytesseract.tesseract_cmd = caminho + r\"\\tesseract.exe\"\n",
    "texto = pytesseract.image_to_string(imagem, lang=\"por\")\n",
    "print(texto)"
   ]
  }
 ],
 "metadata": {
  "kernelspec": {
   "display_name": "Python 3",
   "language": "python",
   "name": "python3"
  },
  "language_info": {
   "codemirror_mode": {
    "name": "ipython",
    "version": 3
   },
   "file_extension": ".py",
   "mimetype": "text/x-python",
   "name": "python",
   "nbconvert_exporter": "python",
   "pygments_lexer": "ipython3",
   "version": "3.12.7"
  }
 },
 "nbformat": 4,
 "nbformat_minor": 2
}
